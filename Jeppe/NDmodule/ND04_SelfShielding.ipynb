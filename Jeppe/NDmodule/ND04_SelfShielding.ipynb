{
 "cells": [
  {
   "cell_type": "markdown",
   "metadata": {},
   "source": [
    "# Energy self-shielding of resonances\n",
    "\n",
    "Please indicate your name below, since you will need to submit this notebook.\n",
    "\n",
    "Don't forget to save your progress during the datalab to avoid any loss due to crashes."
   ]
  },
  {
   "cell_type": "code",
   "execution_count": null,
   "metadata": {},
   "outputs": [],
   "source": [
    "name=''"
   ]
  },
  {
   "cell_type": "markdown",
   "metadata": {
    "slideshow": {
     "slide_type": "slide"
    }
   },
   "source": [
    "When we looked at group-wise cross sections we have used a simplified neutron spectrum to weight the cross sections with: Maxwellian at thermal energies, 1/E at epithermal energies, and Watt-spectrum at fast energies. We have however ignored the fact that the resonances influence the spectrum. The intention of this datalab is to remedy that and implement methods which are suitable to take into account the impact of resonances on the spectrum. The reader is adviced to review Chapter 8 of [Nuclear Reactor Analysis from Duderstadt and Hamilton](https://deepblue.lib.umich.edu/bitstream/handle/2027.42/89079/1976_Nuclear_Reactor_Analysis.pdf) before this datalab, with a special attention on resonance escape probabilities and resonance integrals. In the following we will just highlight and further elaborate on certain parts of it.\n",
    "\n",
    "In the following we assume that neutrons slow down in an infinite homogeneous medium: a mixture of resonant nuclei (eg. U-238) and non-resonant, moderator nuclei (eg. H-1 and O-16 of water). The absorber is denoted with \"A\" whereas the moderator is denoted with \"M\". We assume that the moderator has a constant scattering cross section at the energies of the resonances of the absorber, and a negligible absorption cross section. The reader is encouraged to look up the cross sections to justify these approximations.\n",
    "\n",
    "It can be assumed that the practical with of the resonances, $\\Gamma_p$ is much smaller than the average energy lost in a collision with the nuclei of the moderator (see p342 of D&H for more detail). This is generally true for the resonances of interest for reactor applications.\n",
    "\n",
    "However, we need to make a further approximation in regard of the resonance width compared to average  energy lost. Here we will apply the Narrow Resonance approximation, which assumes that the resonance width is also small compared to the average energy lost in collisions with absorber nuclei. In this case the flux in the slowing down energy region can be assumed to be\n",
    "\n",
    "$$\\phi_{NR}(E)\\propto \\frac{1}{\\Sigma_t(E)E}$$\n",
    "\n",
    "where the total cross section based on our previous discussions is the sum of the total cross section of the absorber and and the constant scattering cross section of the moderator.\n",
    "\n",
    "$$\\Sigma_t(E)=\\Sigma_a^A(E)+\\Sigma_s^A(E)+\\Sigma_s^M$$\n",
    "\n",
    "One can see that in case the macroscopic scattering cross section of the moderator is much larger than the total cross section of the absorber, the energy dependence of the absorber's total cross section will not have a significant influence, thus the flux will behave as 1/E. This is called infinite dilution (ie. the absorber nuclei is infinitely diluted in the moderator), and you might recall that we mentioned this term in the previous datalab on group cross sections. At this point, unfortunately the D&H book does not introduce an important concept: the [dilution or background cross section](https://t2.lanl.gov/nis/njoy/grou04.html) to represent all other isotopes (ie. not the resonant) as constant:\n",
    "\n",
    "$$\\sigma_d=\\frac{\\Sigma_s^M}{N^A}$$\n",
    "\n",
    "which is a measure of how diluted the number of resonant atoms ($N^A$) is in the mixture with moderator atoms. One can see that this value has barn units, which is the reason it is considered to be a cross section. With that\n",
    "\n",
    "$$\\phi_{NR}(E)\\propto \\frac{1}{(\\sigma_t(E)+\\sigma_d)E}$$\n",
    "\n",
    "This scheme is sometimes referred to as the Bondarenko method in the literature. According to  the [NJOY16 manual](https://raw.githubusercontent.com/njoy/NJOY2016-manual/master/njoy16.pdf) for uranium-dioxide fuel pins the typical background cross sections are within the range 20 to 50 barns.\n",
    "\n",
    "\n",
    "## The cross section to collapse\n",
    "\n",
    "We are going to use the point-wise cross sections previously reconstructed with the SLBW formalism from the resonance parameters for U-238.\n",
    "\n",
    "Let's read this data! Note, the file name is not necessarily the same, what you gave to your file in order to make sure that a file is available. Also, note that in fact we have reconstructed the capture cross section of U-238, however considering that the fission cross section of U-238 in the energy region of interest is several orders of magnitude lower than the capture cross section, we can safely assume that the absorption cross section equals the capture cross section only."
   ]
  },
  {
   "cell_type": "code",
   "execution_count": 1,
   "metadata": {},
   "outputs": [
    {
     "data": {
      "image/png": "[encoded data removed]",
      "text/plain": [
       "<Figure size 432x288 with 1 Axes>"
      ]
     },
     "metadata": {
      "needs_background": "light"
     },
     "output_type": "display_data"
    }
   ],
   "source": [
    "import numpy as np\n",
    "import matplotlib.pyplot as plt\n",
    "\n",
    "E, sigma_ar, sigma_sr = np.loadtxt('data/U238reconstructed.dat').transpose()\n",
    "\n",
    "plt.figure()\n",
    "plt.loglog(E, sigma_ar,'k',label='capture')\n",
    "plt.loglog(E, sigma_sr,'gray',label='scattering')\n",
    "plt.legend()\n",
    "plt.xlabel('energy (eV)')\n",
    "plt.ylabel('Cross sections (b)')            \n",
    "plt.show()"
   ]
  },
  {
   "cell_type": "markdown",
   "metadata": {},
   "source": [
    "## Group structure and collapsing\n",
    "\n",
    "We are going to use the same LANL 187-group stucture as earlier, and we are going to use the same method to weight the cross sections. In fact, the function `groupCollapse()` wraps the code we have used earlier. Execute the code cell below."
   ]
  },
  {
   "cell_type": "code",
   "execution_count": null,
   "metadata": {},
   "outputs": [],
   "source": [
    "ind,elow,ehigh=np.loadtxt('data/lanl187.txt').transpose()\n",
    "\n",
    "def groupCollapse(elow,ehigh,exs,xs,spectrum):\n",
    "    \"\"\"Simple function to weight a cross section with a spectrum,\n",
    "    \n",
    "    Parameters\n",
    "    ----------\n",
    "    elow : list of float\n",
    "        List of energy bin lower boundaries\n",
    "    ehigh : list of float\n",
    "        List of energy bin higher boundaries\n",
    "    exs : list of float\n",
    "        List of energy values where the point-wise cross sections and the spectrum is given\n",
    "    xs : list of float\n",
    "        Point-wise cross section at energies given by exs\n",
    "    spectrum : list of float\n",
    "        Neutron spectrum at energies given by exs\n",
    "        \n",
    "    Return\n",
    "    ------\n",
    "    grpxs : list of float\n",
    "        Group-wise cross section. Number of groups is determined by elow and ehigh.\n",
    "    \"\"\"\n",
    "    grpxs=[]\n",
    "    for el,eh in zip(elow,ehigh):\n",
    "        Egrid=np.linspace(el,eh,1000)                 #divide the energy group into 1000 values      \n",
    "        Phigrid=np.interp(Egrid,exs,spectrum)         #evaluate the spectrum at these values\n",
    "        XSgrid=np.interp(Egrid,exs,xs)                #determine the point-wise xs at these values\n",
    "        grpxs.append(np.trapz(XSgrid*Phigrid,Egrid)/np.trapz(Phigrid,Egrid))\n",
    "    return grpxs"
   ]
  },
  {
   "cell_type": "markdown",
   "metadata": {},
   "source": [
    "## The narrow resonance model\n",
    "\n",
    "Let us now implement the narrow resonance model. Complete the code cell below to define the function `narrowResonance()`.\n",
    "\n",
    "Also visualize the spectrum for three values of back ground cross sections (1, 100 and $10^{10}$ barns, we will refer to the latter as infinite dilution)."
   ]
  },
  {
   "cell_type": "code",
   "execution_count": null,
   "metadata": {},
   "outputs": [],
   "source": [
    "def narrowResonance(E, sigma_ar, sigma_sr, sigma_d):\n",
    "    \"\"\"Function to calculate the spectrum according to the Narrow Resonance model.\n",
    "    \n",
    "    Parameters\n",
    "    ----------\n",
    "    E : list of float\n",
    "        List of energy values where the point-wise cross sections are given and the\n",
    "        spectrum is to be evaluated\n",
    "    sigma_ar : list of float\n",
    "        Point-wise absorption cross section of the resonant nuclide at energies given by E\n",
    "    sigma_sr : list of float\n",
    "        Point-wise scattering cross section of the resonant nuclide at energies given by E\n",
    "    sigma_d : float\n",
    "        Background cross section\n",
    "    \"\"\"\n",
    "    #complete\n",
    "    return phi/phi[0] #Normalize so flux at various dilution is readily comparable\n",
    "\n",
    "plt.figure()\n",
    "plt.loglog(E,narrowResonance(E,sigma_ar,sigma_sr,1),'k',label='$\\sigma_d=1$')\n",
    "plt.loglog(E,narrowResonance(E,sigma_ar,sigma_sr,100),'m',label='$\\sigma_d=100$')\n",
    "plt.loglog(E,narrowResonance(E,sigma_ar,sigma_sr,1e10),'b',label='$\\sigma_d=\\infty$')\n",
    "plt.xlabel('Energy (eV)')\n",
    "plt.ylabel('Normalized Flux (eV$^{-1}$)')\n",
    "plt.legend()\n",
    "plt.show()"
   ]
  },
  {
   "cell_type": "markdown",
   "metadata": {},
   "source": [
    "Conclude your finding, what happens as the dilution goes towards infinity?"
   ]
  },
  {
   "cell_type": "markdown",
   "metadata": {},
   "source": [
    "## Creating self-shielded group cross sections\n",
    "\n",
    "In the following we will weight the point-wise cross section with the flux at various dilutions. The resulting cross-sections are often referred to as self-shielded cross sections, since the weighting takes into account the energy self-shielding effects.\n"
   ]
  },
  {
   "cell_type": "code",
   "execution_count": null,
   "metadata": {},
   "outputs": [],
   "source": [
    "sigma_d = np.logspace(0,10,11)\n",
    "\n",
    "sigma_g = {} #dictionary to store group cross sections at various dilution\n",
    "\n",
    "plt.figure()\n",
    "plt.loglog(E,sigma_ar,label='point-wise')\n",
    "plt.xlim(5,50)\n",
    "plt.ylim(0.1,8000)\n",
    "for sd in sigma_d:\n",
    "    sigma_g[sd]=#complete the line\n",
    "    if sd in [1,10,100,10000,1e10]:\n",
    "        plt.step(ehigh,sigma_g[sd],label=r'$\\sigma_d=10^{%d} b$'%(np.log10(sd)))\n",
    "plt.xlabel('Energy (eV)')\n",
    "plt.ylabel('Cross sections (barns)')\n",
    "plt.legend()\n",
    "plt.show()"
   ]
  },
  {
   "cell_type": "markdown",
   "metadata": {},
   "source": [
    "Notice, that at certain energies the dilution does not have an impact on the group constants, however at the resonances, using infinitely dilute cross sections results in much higher cross sections.\n",
    "\n",
    "In order to quantify the impact of self-shielding, we can evaluate the self-shielding factor $$SSF=\\sigma_g(E,d)/\\sigma_g(E,d=\\infty)$$ which gives the ratio between the self-shielded cross section for a given group at a given dilution and the cross section at infinite dilution. Let us take a look at the group 6.47595 - 6.868 eV, since this is the group which accommodates a significant resonance at 6.67 eV."
   ]
  },
  {
   "cell_type": "code",
   "execution_count": null,
   "metadata": {},
   "outputs": [],
   "source": [
    "grp=58 # group index of interest\n",
    "inf_dilute=sigma_d[-1]\n",
    "SSF = []\n",
    "for sd in sigma_d:\n",
    "      SSF.append(sigma_g[sd][grp] / sigma_g[inf_dilute][grp])\n",
    "plt.figure()\n",
    "plt.semilogx(sigma_d,SSF,'ko')\n",
    "plt.xlabel('Dilution')\n",
    "plt.ylabel('SSF')\n",
    "plt.show()"
   ]
  },
  {
   "cell_type": "markdown",
   "metadata": {},
   "source": [
    "Alternatively, we can visualize the self-shielding factor for all the groups for a given dilution, similarly as given at the [UKAEA's page](https://fispact.ukaea.uk/development/self-shielding/)."
   ]
  },
  {
   "cell_type": "code",
   "execution_count": null,
   "metadata": {},
   "outputs": [],
   "source": [
    "plt.figure()\n",
    "plt.step(ehigh,np.array(sigma_g[100])/np.array(sigma_g[inf_dilute]),'k')\n",
    "plt.xscale('log')\n",
    "plt.xlim(1e0,1e4)\n",
    "plt.ylabel('SSF')\n",
    "plt.xlabel('Energy (eV)')\n",
    "plt.show()"
   ]
  },
  {
   "cell_type": "markdown",
   "metadata": {},
   "source": [
    "## Conclusions and comments\n",
    "\n",
    "Building on our previous work from reconstructing and collapsing cross sections we have generated self-shielded multigroup constant. In practice, of course the Doppler-broadening step is typically performed before self-shielding the cross sections, and now we have discussed Doppler-broadening only separately.\n",
    "\n",
    "It must be mentioned that our approximation in this datalab was to consider an infinite homogeneous mixture, whereas in reality the geometry has an influence on the multi-group cross sections (eg. due to spatial self-shielding). This however is somewhat outside of the discussions on nuclear data processing, and involves reactor physics methods, which is not a subject of this module.\n",
    "\n",
    "Finally, it has to be mentioned, that although the D&H book mentions that transport and Monte Carlo methods are computationally too expensive to perform group constant generation, at the present it is not true anymore, and Monte Carlo methods are used more and more frequently to generate the group constants, in this way both spatial and energy self-shielding effects can be taken into account in a rather intuitive manner."
   ]
  },
  {
   "cell_type": "markdown",
   "metadata": {},
   "source": [
    "# Acknowledgment\n",
    "\n",
    "The datalab was inspired by the scripts available at [Jeremy A. Roberts' github page](https://github.com/robertsj/applied_reactor_physics). "
   ]
  }
 ],
 "metadata": {
  "kernelspec": {
   "display_name": "Python 3",
   "language": "python",
   "name": "python3"
  },
  "language_info": {
   "codemirror_mode": {
    "name": "ipython",
    "version": 3
   },
   "file_extension": ".py",
   "mimetype": "text/x-python",
   "name": "python",
   "nbconvert_exporter": "python",
   "pygments_lexer": "ipython3",
   "version": "3.7.3"
  }
 },
 "nbformat": 4,
 "nbformat_minor": 4
}
