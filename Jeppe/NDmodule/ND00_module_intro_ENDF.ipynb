{
 "cells": [
  {
   "cell_type": "markdown",
   "metadata": {},
   "source": [
    "# Nuclear Data module introduction and the ENDF format\n",
    "\n",
    "This notebook does not require you to write any code, it is just a low level introduction helpful to perform the other notebooks. You do not need to submit this one."
   ]
  },
  {
   "cell_type": "markdown",
   "metadata": {},
   "source": [
    "In order to perform neutronics calculations one requires nuclear data. In the introductory datalabs we have relied on eg. neutron-induced reaction cross sections, nubar data, etc. Nevertheless, our method to obtain such data was to visit either [NDS-IAEA](https://www-nds.iaea.org/) or [KAERI's nuclide chart](https://atom.kaeri.re.kr/nuchart/), then select the appropriate cross section, download a point-wise (ie. energy-cross section value pairs) format, and visualize or process it to some extent. With this however we have only touched the surface of nuclear data. In fact, nuclear data is not usually stored or used in this format, since this is only convenient for plotting. Also when nuclear data is being used in simulations, it first needs to be processed into an appropriate format. If working with Monte Carlo simulations, this is most often the ACE point-wise format (note that in openMC we have relied on h5 files, which can be converted from ACE files). If working with deterministic simulations, the format depends on the code, however the data is in a group-wise format.\n",
    "\n",
    "The aim of this module is to deepen our understanding on how nuclear data is stored, what it contains and how it can be processed with simple python code. We will not become nuclear data experts, but will gain the necessary knowledge for a neutronics specialist or a nuclear engineer, and the interested students will have a strong foundation to deepen their knowledge further with little effort. However, the most valuable added benefit of learning and working with nuclear data is that you learn about nuclear physics as well, which will in return clarify for us why certain approximations are used in reactor physics. \n",
    "\n",
    "My personal motivation to create this module was that over the years while working and teaching neutronics, I have noticed that nuclear data processing is often overlooked. While trying to clarify these questions for myself, I have realized that it is difficult to find a transparent, easy to understand material on the subject. The best sources I came across were the [\"An Introduction to the ENDF Formats\"](https://t2.lanl.gov/nis/endf/) and the [\"Understanding NJOY\"](https://t2.lanl.gov/nis/njoy/) learning modules from LANL T2's Nuclear Information Services. My intention was to complement these modules with Jupyter notebooks which transparently demonstrate how steps of the nuclear data processing pipeline can be implemented.\n",
    "\n",
    "The strategy of this learning module is that we implement the simplest methods and approximations to process raw nuclear data (such as resonance reconstruction or Doppler broadening), which will allow us to understand why and how a nuclear data processing is needed. Then more as illustration than actual exercise we review more advanced topics.\n",
    "\n",
    "The content of the module is:\n",
    "0. Intro and the ENDF format\n",
    "1. Point-wise and group-wise cross sections\n",
    "2. Reconstructing resonances: single-level Breit-Wigner formalism\n",
    "3. Doppler broadening of resonances\n",
    "4. Self-shielding: group cross sections with narrow resonance model\n",
    "5. Angular distributions\n",
    "6. Thermal scattering laws\n",
    "7. Unresolved resonance region\n",
    "8. Nuclear data covariances\n",
    "9. Other beasts: gas production, KERMA, damage energy (to be finalized)\n",
    "10. Using NJOY (to be finalized)\n",
    "\n",
    "So let's get familiar with the ENDF format in this notebook, we will not do too much coding, in fact you do not need to run anything here, but still, it's exciting!"
   ]
  },
  {
   "cell_type": "markdown",
   "metadata": {},
   "source": [
    "# The ENDF format\n",
    "\n",
    "Nuclear data was organized into libraries or files to facilitate distribution by various national labs world wide. These efforts made use of different formats. The US national nuclear data file was called ENDF/B (the Evaluated Nuclear Data Files), and after a while other nuclear data files (eg. JEFF from Europe and JENDL from Japan) have adopted the format of ENDF/B. Therefore now, somewhat confusingly we refer to the format as ENDF (ENDF-6 to be precise, since the format itself has also evolved), and we refer the US national nuclear data file as ENDF/B (with the most up to date version being ENDF/B-VIII.1). It has to be mentioned however that the development of the ENDF format started in the 1960s, and although it evolved over the years, it has some shortcomings: eg. as we will see, it is not an entirely user-friendly format, making it difficult to parse it for new users, and the numeric precision is also limited.  Therefore, during the last decade substantial work has begun by the nuclear data community lead by OECD NEA to develop a new, xml-based format called [Generalized Nuclear Data Structure (GNDS)](https://www.oecd-nea.org/jcms/pl_39689/specifications-for-the-generalised-nuclear-database-structure-gnds?details=true). For the time being however, the use of ENDF is still widely accepted, therefore this module also focuses on that. \n",
    "\n",
    "The national data files rely on different evaluations and experiments, therefore running the same computation might produce different results for various nuclear data. This actually gives the main motivation to work on improving nuclear data, since no matter how accurately a code describes the physics, the quality of the data is going to have a large influence on the accuracy of the computations.\n",
    "\n",
    "Here we will have only a low-level indtroduction to the ENDF file format, since we do not intend to work directly with this format. A higher-level tutorial can be found at [LANL T2](https://t2.lanl.gov/nis/endf/), or further clarifications can be found in the [documentation of the format](https://www.nndc.bnl.gov/csewg/docs/endf-manual.pdf).\n",
    "\n",
    "When you have downloaded cross sections from the [NDS-IAEA](https://www-nds.iaea.org/) or [KAERI's nuclide chart](https://atom.kaeri.re.kr/nuchart/), you might have noticed that there is an option to download or retrieve the full text.\n",
    "\n",
    "At IAEA-NDS one can retrieve either selected data, or with the `ENDF6` button, the given section. Next to this button is an other one titled `Interpreted`. In fact, most of the time we will work with that interpreted format, which is more easily digestable.\n",
    "\n",
    "![](figures/NDS_retrieve.png)\n",
    "\n",
    "At KAERI, by clicking on the `Full text` you can retrieve the whole ENDF file. However, keep in mind that this file can be rather large.\n",
    "\n",
    "![](figures/KAERI_fulltext.png)\n",
    "\n",
    "In the `/data` folder one can find an ENDF/B-VII.1 tape of Uranium-238 downloaded from [LANL T2](https://t2.lanl.gov/nis/data/endf/endfvii.1-n.html) named `U238.endf` (note that the file is an ASCII file, it is not required that it has an `.endf` extension, it is just named so to distinguish it from other files in the folder with similar names). Let's read in the first 50 lines with the use of `readlines()` and the the string `join()` method."
   ]
  },
  {
   "cell_type": "code",
   "execution_count": 1,
   "metadata": {},
   "outputs": [
    {
     "name": "stdout",
     "output_type": "stream",
     "text": [
      " $Rev:: 532      $  $Date:: 2011-12-05#$                             1 0  0    0\n",
      " 9.223800+4 2.360058+2          1          1          0          59237 1451    1\n",
      " 0.000000+0 1.000000+0          0          0          0          69237 1451    2\n",
      " 1.000000+0 3.000000+7          1          0         10          79237 1451    3\n",
      " 0.000000+0 0.000000+0          0          0        734        1279237 1451    4\n",
      " 92-U -238 ORNL,LANL+ EVAL-SEP06 Young,Chadwick,Derrien,Courcelle 9237 1451    5\n",
      "                      DIST-DEC06 REV2-                 20111222   9237 1451    6\n",
      "----ENDF/B-VII.1      MATERIAL 9237         REVISION 2            9237 1451    7\n",
      "-----INCIDENT NEUTRON DATA                                        9237 1451    8\n",
      "------ENDF-6 FORMAT                                               9237 1451    9\n",
      "***************************************************************** 9237 1451   10\n",
      "12/09/2010  S.T. Holloway on behalf of LANL                       9237 1451   11\n",
      "  Reverted MF=1/5, MT=455 Delayed-neutron 6-grp data to           9237 1451   12\n",
      "  ENDF/B-VI.8 values.                                             9237 1451   13\n",
      "***************************************************************** 9237 1451   14\n",
      "                                                                  9237 1451   15\n",
      "                    ENDF/B-VII EVALUATION                         9237 1451   16\n",
      "                                                                  9237 1451   17\n",
      "P.G.Young, M.B.Chadwick, R.E.MacFarlane, W.B.Wilson, D.G.Madland, 9237 1451   18\n",
      "                P.Talou, T. Kawano (LANL)                         9237 1451   19\n",
      "                          and                                     9237 1451   20\n",
      "   H. Derrien, A. Courcelle, L. C. Leal, N. Larson (ORNL)         9237 1451   21\n",
      "                                                                  9237 1451   22\n",
      "                ----- SUMMARY -----                               9237 1451   23\n",
      "                                                                  9237 1451   24\n",
      "   The ENDF/B-VII evaluation is a complete revision of almost all 9237 1451   25\n",
      "the data in the 238U evaluation. Major features of the evaluation 9237 1451   26\n",
      "are:                                                              9237 1451   27\n",
      "1. A new evaluation of the (n,f) cross section based on the       9237 1451   28\n",
      "   ENDF/B-VII standard cross section analysis is incorporated.    9237 1451   29\n",
      "2. New resolved resonance parameter data are incorporated.        9237 1451   30\n",
      "3. A new analysis of the prompt fission neutron spectrum matrix   9237 1451   31\n",
      "   based on the Los Alamos model is used to calculate neutron     9237 1451   32\n",
      "   spectra at all incident energies.                              9237 1451   33\n",
      "4. Improved delayed neutron data are incorporated.                9237 1451   34\n",
      "5. A new theoretical analysis utilizing coupled-channels optical  9237 1451   35\n",
      "   model and reaction theory calculations was performed and used  9237 1451   36\n",
      "   with experimental data to provide new scattering cross         9237 1451   37\n",
      "   sections and angular distributions.                            9237 1451   38\n",
      "6. The reaction theory calculations are utilized for (n,xn) and   9237 1451   39\n",
      "   other reactions.                                               9237 1451   40\n",
      "7. New calculations with coupled-channels optical model           9237 1451   41\n",
      "   parameters are used to extend direct reaction cross sections   9237 1451   42\n",
      "   and angular distributions to an excitation energy of 3.9 MeV.  9237 1451   43\n",
      "8. Improved fission energy release values are incorporated.       9237 1451   44\n",
      "9. A covariance evaluation was performed in the resolved energy   9237 1451   45\n",
      "   region (1.0-5 eV to 20.0 keV) at ORNL and above 20.0 keV at    9237 1451   46\n",
      "   LANL.                                                          9237 1451   47\n",
      "                                                                  9237 1451   48\n",
      "             ----- DETAILED DESCRIPTION -----                     9237 1451   49\n",
      "\n"
     ]
    }
   ],
   "source": [
    "with open('data/U238.endf', 'r') as endf:\n",
    "    print(''.join(endf.readlines()[0:50]))"
   ]
  },
  {
   "cell_type": "markdown",
   "metadata": {},
   "source": [
    "Well, this doesn't look half bad, text written in plain English, and only on the side do we see some cryptic parameters `9237 1451`. In order to make sense of these values we have to review the three main stages of the ENDF-6 format structure.\n",
    "\n",
    "![](figures/ENDFstructure.png)\n",
    "\n",
    "ENDF files contain a *material*, which can be a nuclide (ground state or excited state), an element containing several isotopes, or a mixture of elements, and is described by its MAT number. Under the material several *files* are available described by MF numbers, which contain physical quantities (for example the cross sections). And each file contains several *sections* described by an MT number (for example reaction channels). And in the sections is the data stored (either as a one or two dimensional tabulated function, such as (energy, cross section) pairs with an interpolation scheme, or parameters of functions, such as parameters of a resonance (location, width). Further details on the MAT, MF and MT numbers can be found in the [documentation](https://www.oecd-nea.org/jcms/pl_39689/specifications-for-the-generalised-nuclear-database-structure-gnds?details=true), here we summarize only the few which will be relevant for our further exercises, and at the appropriate place we will intoduce some other ones:\n",
    "\n",
    "MF numbers:\n",
    "- MF 1: General information\n",
    "- MF 2: Resonance parameter data\n",
    "- MF 3: Reaction cross sections\n",
    "- MF 6: Energy-angle distributions of emitted particles\n",
    "- MF 7: Thermal neutron scattering law data\n",
    "\n",
    "MT numbers (note that not all files have the same MT numbers):\n",
    "- MT 1: total reaction: sum of other MT sections\n",
    "- MT 2: elastic scattering\n",
    "- MT 18: total fission\n",
    "- MT 102: radiative capture\n",
    "- MT 151: resonance parameters\n",
    "- MT 451: documentation\n",
    "\n",
    "With that we can already figure out that in the first few lines of the `U238.endf` file, `1451` refers to MF=1 MT=451, and in fact for Uranium-238 MAT=9237. If the MT has less characters, then there is a white space between MF and MT (you remember, this is an unfriendly format).\n",
    "\n",
    "Let's print now the content of the file from line 6832-6839 (we happen to know that the radiative capture cross section data sits there). For this we will use the `readlines()` and the string `join()` method as before. Note that in python indexing goes from 0, hence the starting index is 6831."
   ]
  },
  {
   "cell_type": "code",
   "execution_count": 2,
   "metadata": {},
   "outputs": [
    {
     "name": "stdout",
     "output_type": "stream",
     "text": [
      " 9.223800+4 2.360058+2          0          0          0          09237 3102    1\n",
      " 4.806500+6 4.806500+6          0          0          1        1019237 3102    2\n",
      "        101          2                                            9237 3102    3\n",
      " 1.000000-5 0.000000+0 2.000000+4 0.000000+0 2.000000+4 5.274300-19237 3102    4\n",
      " 2.300000+4 4.989200-1 2.600000+4 4.732700-1 3.000000+4 4.434000-19237 3102    5\n",
      " 3.500000+4 4.109100-1 4.000000+4 3.826300-1 4.500000+4 3.582300-19237 3102    6\n",
      " 4.509025+4 3.578200-1 5.000000+4 3.250600-1 5.500000+4 2.984700-19237 3102    7\n",
      " 6.000000+4 2.755600-1 7.000000+4 2.397900-1 8.000000+4 2.138100-19237 3102    8\n",
      " 9.000000+4 1.943600-1 1.000000+5 1.793600-1 1.200000+5 1.596600-19237 3102    9\n",
      " 1.400000+5 1.467600-1 1.490288+5 1.424500-1 1.600000+5 1.378700-19237 3102   10\n",
      " 1.700000+5 1.343200-1 1.800000+5 1.313000-1 1.900000+5 1.287300-19237 3102   11\n",
      " 2.000000+5 1.265400-1 2.100000+5 1.244700-1 2.200000+5 1.225200-19237 3102   12\n",
      " 2.300000+5 1.209800-1 2.350000+5 1.202900-1 2.400000+5 1.196500-19237 3102   13\n",
      " 2.450000+5 1.190500-1 2.500000+5 1.185000-1 2.600000+5 1.175300-19237 3102   14\n",
      " 2.700000+5 1.167000-1 2.800000+5 1.160100-1 3.000000+5 1.149900-19237 3102   15\n",
      " 3.250000+5 1.116600-1 3.500000+5 1.096600-1 3.750000+5 1.081200-19237 3102   16\n",
      " 4.000000+5 1.069900-1 4.250000+5 1.067700-1 4.500000+5 1.073900-19237 3102   17\n",
      " 4.750000+5 1.083300-1 5.000000+5 1.095900-1 5.200000+5 1.108200-19237 3102   18\n",
      " 5.400000+5 1.101300-1 5.700000+5 1.125300-1 6.000000+5 1.153400-19237 3102   19\n",
      " 6.500000+5 1.198700-1 7.000000+5 1.238700-1 7.500000+5 1.194400-19237 3102   20\n",
      " 8.000000+5 1.191600-1 8.500000+5 1.207500-1 9.000000+5 1.261400-19237 3102   21\n",
      " 9.400000+5 1.247800-1 9.600000+5 1.264000-1 1.000000+6 1.283000-19237 3102   22\n",
      " 1.100000+6 1.132000-1 1.250000+6 9.190000-2 1.400000+6 7.990000-29237 3102   23\n",
      " 1.500000+6 7.215284-2 1.600000+6 6.560000-2 1.800000+6 5.690000-29237 3102   24\n",
      " 2.000000+6 4.790000-2 2.200000+6 3.850000-2 2.500000+6 2.793909-29237 3102   25\n",
      " 3.000000+6 1.680000-2 3.500000+6 1.020000-2 4.000000+6 5.900000-39237 3102   26\n",
      " 4.500000+6 3.400000-3 5.000000+6 2.080000-3 5.500000+6 1.630000-39237 3102   27\n",
      " 6.000000+6 1.400000-3 6.500000+6 1.253966-3 7.000000+6 1.140000-39237 3102   28\n",
      " 7.500000+6 1.063125-3 8.000000+6 1.020000-3 8.500000+6 1.017157-39237 3102   29\n",
      " 9.000000+6 1.050000-3 9.500000+6 1.138142-3 1.000000+7 1.220000-39237 3102   30\n",
      " 1.050000+7 1.241398-3 1.100000+7 1.230000-3 1.150000+7 1.198304-39237 3102   31\n",
      " 1.200000+7 1.150000-3 1.250000+7 1.086406-3 1.300000+7 1.020000-39237 3102   32\n",
      " 1.350000+7 9.512188-4 1.400000+7 8.800000-4 1.450000+7 7.942500-49237 3102   33\n",
      " 1.500000+7 7.100000-4 1.600000+7 5.800000-4 1.700000+7 4.600000-49237 3102   34\n",
      " 1.800000+7 3.900000-4 1.900000+7 3.456636-4 2.000000+7 3.048561-49237 3102   35\n",
      " 2.200000+7 2.339936-4 2.400000+7 1.777446-4 2.600000+7 1.364412-49237 3102   36\n",
      " 2.800000+7 1.104157-4 3.000000+7 1.000000-4                      9237 3102   37\n",
      " 0.000000+0 0.000000+0          0          0          0          09237 3  099999\n",
      "\n"
     ]
    }
   ],
   "source": [
    "with open('data/U238.endf', 'r') as endf:\n",
    "    print(''.join(endf.readlines()[6831:6869]))"
   ]
  },
  {
   "cell_type": "markdown",
   "metadata": {},
   "source": [
    "We notice immedietly, that our cryptic numbers become now `9237 3102` which stand for MAT=9237 MF=3 MT=102, which based on our summary list is the radiative capture cross section on Uranium-238. The other thing we notice is that the numbers are given in a strange scientific notation eg. `1.900000+7`, this we will overcome with some python, when needed. \n",
    "\n",
    "We also notice that there is a strict format here: The first 66 letters of a row contain data, the next 4 letters are reserved for the MAT number (which is typically 3 or 4 characters long). Then 2 characters are reserved for MF numbers, 3 characters reserced for the MT numbers, and finally 5 characters reserved for the line number.\n",
    "\n",
    "Line 1 (see the last number of the row) is a HEAD record, which gives the ZAID (1000\\*92+238) of the nuclide, followed by the mass of the nucleus (given as AWR: the ratio of the mass of the material to that of the neutron). The last line is a \"SEND\" record, which signals the end of the section (there are FEND, MEND and TEND records as well to signal the end of a file, material and tape), and everyting in between is a \"TAB1\" record for one-dimensional data. There are other possible records, which you can find in the documentation if needed.\n",
    "\n",
    "Line 2 contains the [Q-Values](https://www-nds.iaea.org/exfor/servlet/efhelp/qmqi.html), which is are `4.806500+6`.\n",
    "\n",
    "Line 3 describes the number of (energy,cross section) pairs, 101 in this case. And the [interpolation law](https://www-nds.iaea.org/exfor/servlet/efhelp/interp.html), which is 2, meaning linear-linear interpolation.\n",
    "\n",
    "Then Line 4-37 contain the (energy,cross section) pairs. This is not so much data what we are used to when plotting point-wise cross sections, right? Yes, indeed, because in order to get the point-wise data, one needs to reconstruct the content of the ENDF file, based on the interpolation law, and on resonance parameters.\n",
    "\n",
    "Let's open the section with resonance parameters, or at least a few lines of it since this section is several thousand lines (U-238 is a resonant nuclide)."
   ]
  },
  {
   "cell_type": "code",
   "execution_count": 3,
   "metadata": {},
   "outputs": [
    {
     "name": "stdout",
     "output_type": "stream",
     "text": [
      " 9.223800+4 2.360058+2          0          0          1          09237 2151    1\n",
      " 9.223800+4 1.000000+0          0          0          2          09237 2151    2\n",
      " 1.000000-5 2.000000+4          1          3          0          09237 2151    3\n",
      " 0.000000+0 9.480000-1          0          0          2          29237 2151    4\n",
      " 2.360060+2 9.480000-1          0          0       5556        9269237 2151    5\n",
      "-4.405250+3 5.000000-1 1.393500+2 2.300000-2 0.000000+0 0.000000+09237 2151    6\n",
      "-4.133000+2 5.000000-1 5.215449-2 2.300000-2 0.000000+0 0.000000+09237 2151    7\n",
      "-3.933000+2 5.000000-1 4.993892-2 2.300000-2 0.000000+0 0.000000+09237 2151    8\n",
      "-3.733000+2 5.000000-1 4.764719-2 2.300000-2 0.000000+0 0.000000+09237 2151    9\n",
      "-3.533000+2 5.000000-1 4.527354-2 2.300000-2 0.000000+0 0.000000+09237 2151   10\n",
      "-3.333000+2 5.000000-1 4.281115-2 2.300000-2 0.000000+0 0.000000+09237 2151   11\n",
      "-3.133000+2 5.000000-1 4.025348-2 2.300000-2 0.000000+0 0.000000+09237 2151   12\n",
      "-2.933000+2 5.000000-1 3.759330-2 2.300000-2 0.000000+0 0.000000+09237 2151   13\n",
      "-2.733000+2 5.000000-1 2.551450-2 2.300000-2 0.000000+0 0.000000+09237 2151   14\n",
      "-2.533000+2 5.000000-1 2.397198-2 2.300000-2 0.000000+0 0.000000+09237 2151   15\n",
      "-2.333000+2 5.000000-1 2.234626-2 2.300000-2 0.000000+0 0.000000+09237 2151   16\n",
      "-2.133000+2 5.000000-1 2.062684-2 2.300000-2 0.000000+0 0.000000+09237 2151   17\n",
      "-1.933000+2 5.000000-1 1.879962-2 2.300000-2 0.000000+0 0.000000+09237 2151   18\n",
      "-1.733000+2 5.000000-1 1.685164-2 2.300000-2 0.000000+0 0.000000+09237 2151   19\n",
      "-1.533000+2 5.000000-1 1.476751-2 2.300000-2 0.000000+0 0.000000+09237 2151   20\n",
      "-1.333000+2 5.000000-1 1.253624-2 2.300000-2 0.000000+0 0.000000+09237 2151   21\n",
      "-1.133000+2 5.000000-1 1.015824-2 2.300000-2 0.000000+0 0.000000+09237 2151   22\n",
      "-9.330000+1 5.000000-1 7.658435-3 2.300000-2 0.000000+0 0.000000+09237 2151   23\n",
      "-7.330000+1 5.000000-1 5.086118-3 2.300000-2 0.000000+0 0.000000+09237 2151   24\n",
      "-5.330000+1 5.000000-1 2.932955-3 2.300000-2 0.000000+0 0.000000+09237 2151   25\n",
      "-3.330000+1 5.000000-1 1.004548-2 2.300000-2 2.010000-6 0.000000+09237 2151   26\n",
      "-7.000000+0 5.000000-1 1.685000-4 2.300000-2 0.000000+0 0.000000+09237 2151   27\n",
      " 6.673491+0 5.000000-1 1.475792-3 2.300000-2 0.000000+0 9.990000-99237 2151   28\n",
      " 2.087152+1 5.000000-1 1.009376-2 2.286379-2 5.420000-8 0.000000+09237 2151   29\n",
      " 3.668212+1 5.000000-1 3.354568-2 2.300225-2 0.000000+0 9.770000-99237 2151   30\n",
      " 6.603118+1 5.000000-1 2.417823-2 2.330763-2 5.265000-8 0.000000+09237 2151   31\n",
      "\n"
     ]
    }
   ],
   "source": [
    "with open('data/U238.endf', 'r') as endf:\n",
    "    print(''.join(endf.readlines()[904:935]))"
   ]
  },
  {
   "cell_type": "markdown",
   "metadata": {},
   "source": [
    "We are not going into too much detail for the moment, since there will be a datalab, where we will work with resonance parameters. If the same section is opened with IAEA-NDS, the following information is given as header:\n",
    "\n",
    "```\n",
    "    Number of isotopes represented: 1\n",
    "\n",
    "    Isotope number: 1\n",
    "    Isotope ZA: 92238.\n",
    "    Isotope abundance: 1.0000\n",
    "    Number of energy ranges: 2\n",
    "\n",
    "    Energy range number: 1\n",
    "    Lower energy limit: 1.000000-5\n",
    "    Upper energy limit: 2.000000+4\n",
    "\n",
    "    Reich-Moore Parameters\n",
    "\n",
    "    Spin: 0.0\n",
    "    Scattering length AP: 0.94800\n",
    "    4*pi*AP**2: 11.2934 barns\n",
    "    Number of l states: 2\n",
    "\n",
    "    Resonance Parameters for l= 0\n",
    "    L-dependent scattering radius: 0.94800 \n",
    "```\n",
    "\n",
    "Then from Line 6 we have the resonance parameters in the columns as\n",
    "\n",
    "Energy (eV), spin J, and widths GN (neutron width), GG (radiation width), GFA (first partial fission width), GFB (second partial fission width). Later we will reconstruct resonances with these parameters, but for the moment we let them be.\n",
    "\n",
    "We can notice that the first few resonances are negative resonances (come at negative energies), and we might recognize the notable resonance of U-238 at 6.67 eV in Line 28."
   ]
  },
  {
   "cell_type": "markdown",
   "metadata": {},
   "source": [
    "# Parsing ENDF\n",
    "\n",
    "As mentioned before, we will not bother with using ENDF data directly, you will be given files containing interpreted data to work with.\n",
    "\n",
    "Nevertheless it is worth mentioning that the team developing NJOY has also distributed a toolkit, [ENDFtk](https://github.com/njoy/ENDFtk/), which is capable of parsing ENDF formatted data. We will review the basic functionality of this toolkit. (Note, you do not need to execute this cell, however if you want, this toolkit needs to be installed if you are not using the distributed Ubuntu machine with preinstalled software. The installation is straightforward, just follow the instructions at the link above).\n"
   ]
  },
  {
   "cell_type": "code",
   "execution_count": 4,
   "metadata": {},
   "outputs": [],
   "source": [
    "import numpy as np \n",
    "import matplotlib.pyplot as plt\n",
    "\n",
    "#import sys  #depending on your install you might need to set a path\n",
    "#sys.path.append('/yourpath/ENDFtk/build')\n",
    "import ENDFtk"
   ]
  },
  {
   "cell_type": "markdown",
   "metadata": {},
   "source": [
    "Now, we will need to open a \"tape\" from the file, and then we will parse the appropriate section:"
   ]
  },
  {
   "cell_type": "code",
   "execution_count": 5,
   "metadata": {},
   "outputs": [
    {
     "data": {
      "image/png": "[encoded data removed]",
      "text/plain": [
       "<Figure size 432x288 with 1 Axes>"
      ]
     },
     "metadata": {
      "needs_background": "light"
     },
     "output_type": "display_data"
    }
   ],
   "source": [
    "tape = ENDFtk.tree.Tape.from_file( 'data/U238.endf' )\n",
    "section = tape.material(9237).file(3).section(102).parse()\n",
    "\n",
    "xs=np.array(section.cross_sections,dtype=float)\n",
    "energy=np.array(section.energies,dtype=float)\n",
    "\n",
    "\n",
    "plt.figure()\n",
    "plt.loglog(energy,xs)\n",
    "plt.xlabel('energy (eV)')\n",
    "plt.ylabel('xs')\n",
    "plt.show()"
   ]
  },
  {
   "cell_type": "markdown",
   "metadata": {},
   "source": [
    "Huh, this is not something we are used to! Indeed, this is the raw data as we saw above, and not the reconstructed cross section. But don't worry, we will do that soon enough in an other notebook."
   ]
  }
 ],
 "metadata": {
  "kernelspec": {
   "display_name": "Python 3",
   "language": "python",
   "name": "python3"
  },
  "language_info": {
   "codemirror_mode": {
    "name": "ipython",
    "version": 3
   },
   "file_extension": ".py",
   "mimetype": "text/x-python",
   "name": "python",
   "nbconvert_exporter": "python",
   "pygments_lexer": "ipython3",
   "version": "3.7.3"
  }
 },
 "nbformat": 4,
 "nbformat_minor": 4
}
