{
 "cells": [
  {
   "cell_type": "markdown",
   "metadata": {},
   "source": [
    "$$\\newcommand\\lambdabar{\n",
    "\\raise1.5pt{\\moveright4.0pt\\unicode{0x0335}}\\moveleft1pt\\lambda\n",
    "}$$\n",
    "\n",
    "# Resonance reconstruction\n",
    "\n",
    "Please indicate your name below, since you will need to submit this notebook.\n",
    "\n",
    "Don't forget to save your progress during the datalab to avoid any loss due to crashes."
   ]
  },
  {
   "cell_type": "code",
   "execution_count": null,
   "metadata": {},
   "outputs": [],
   "source": [
    "name=''"
   ]
  },
  {
   "cell_type": "markdown",
   "metadata": {},
   "source": [
    "## The resonance data\n",
    "\n",
    "In an earlier datalab, `ND0_module_intro_ENDF`, we have seen how and where resonance parameters are stored in an ENDF tape. You might recall it was on file 2, and section 151. In this datalab we will make use of these parameters, namely we will reconstruct the cross sections based on these parameters. \n",
    "\n",
    "We have already prepared a file `data/U238res.dat`, which is an extract of the interpreted resonance parameters from ENDF-B/VIII.0 accessed from IAEA-NDS. Let's look at the content."
   ]
  },
  {
   "cell_type": "code",
   "execution_count": 1,
   "metadata": {},
   "outputs": [
    {
     "name": "stdout",
     "output_type": "stream",
     "text": [
      " 6.673491e+0 5.000000e-1 1.475792e-3 2.300000e-2 0.000000e+0 9.990000e-9\n",
      " 2.087152e+1 5.000000e-1 1.009376e-2 2.286379e-2 5.420000e-8 0.000000e+0\n",
      " 3.668212e+1 5.000000e-1 3.354568e-2 2.300225e-2 0.000000e+0 9.770000e-9\n",
      " 6.603118e+1 5.000000e-1 2.417823e-2 2.330763e-2 5.265000e-8 0.000000e+0\n",
      " 8.074744e+1 5.000000e-1 1.873989e-3 2.338714e-2 0.000000e+0 6.049000e-8\n",
      " 1.025586e+2 5.000000e-1 7.077051e-2 2.408178e-2 0.000000e+0 0.000000e+0\n",
      " 1.168923e+2 5.000000e-1 2.535360e-2 2.227601e-2 0.000000e+0 0.000000e+0\n",
      " 1.456649e+2 5.000000e-1 8.857229e-4 2.382470e-2 0.000000e+0 0.000000e+0\n",
      " 1.653167e+2 5.000000e-1 3.190336e-3 2.437384e-2 0.000000e+0 0.000000e+0\n",
      " 1.896804e+2 5.000000e-1 1.701848e-1 2.357967e-2 0.000000e+0 3.573000e-8\n",
      " 2.085250e+2 5.000000e-1 4.988164e-2 2.283536e-2 8.347000e-8 0.000000e+0\n",
      " 2.373985e+2 5.000000e-1 2.644844e-2 2.517753e-2 0.000000e+0 3.542000e-8\n",
      " 2.736794e+2 5.000000e-1 2.486493e-2 2.440783e-2 0.000000e+0 0.000000e+0\n",
      " 2.910206e+2 5.000000e-1 1.654438e-2 2.322604e-2 0.000000e+0 0.000000e+0\n",
      " 3.113500e+2 5.000000e-1 1.055970e-3 2.349383e-2 0.000000e+0 0.000000e+0\n",
      " 3.478327e+2 5.000000e-1 7.929703e-2 2.181519e-2 2.320000e-7 0.000000e+0\n",
      " 3.536366e+2 5.000000e-1 2.166908e-5 2.300063e-2 0.000000e+0 0.000000e+0\n",
      " 3.769664e+2 5.000000e-1 1.115853e-3 2.333482e-2 0.000000e+0 1.400000e-7\n",
      " 3.976450e+2 5.000000e-1 5.802135e-3 2.257408e-2 0.000000e+0 0.000000e+0\n",
      " 4.102700e+2 5.000000e-1 1.948235e-2 2.250696e-2 0.000000e+0 0.000000e+0\n",
      " 4.341160e+2 5.000000e-1 9.823947e-3 2.329801e-2 0.000000e+0 0.000000e+0\n",
      " 4.632500e+2 5.000000e-1 5.445802e-3 2.377862e-2 1.346000e-6 0.000000e+0\n",
      " 4.784866e+2 5.000000e-1 3.955773e-3 2.443868e-2 0.000000e+0 2.290000e-7\n",
      " 4.888865e+2 5.000000e-1 8.634930e-4 2.338321e-2 0.000000e+0 0.000000e+0\n",
      " 5.184395e+2 5.000000e-1 4.971879e-2 2.206809e-2 2.290000e-7 0.000000e+0\n",
      " 5.353810e+2 5.000000e-1 4.465094e-2 2.398507e-2 0.000000e+0 3.660000e-7\n",
      " 5.802024e+2 5.000000e-1 4.057047e-2 2.230292e-2 0.000000e+0 0.000000e+0\n",
      " 5.951391e+2 5.000000e-1 8.713425e-2 2.301000e-2 1.002000e-6 0.000000e+0\n",
      " 6.200695e+2 5.000000e-1 3.035558e-2 2.286046e-2 0.000000e+0 1.440000e-7\n",
      " 6.286345e+2 5.000000e-1 6.591141e-3 2.300000e-2 0.000000e+0 0.000000e+0\n",
      " 6.612896e+2 5.000000e-1 1.265976e-1 2.415549e-2 0.000000e+0 0.000000e+0\n",
      " 6.931689e+2 5.000000e-1 4.235258e-2 2.282838e-2 0.000000e+0 0.000000e+0\n",
      " 7.083836e+2 5.000000e-1 2.199530e-2 2.328366e-2 3.330000e-5 0.000000e+0\n",
      " 7.216848e+2 5.000000e-1 1.965000e-3 3.150000e-3 0.000000e+0 4.110000e-4\n",
      " 7.302000e+2 5.000000e-1 1.053311e-3 2.300000e-2 1.490000e-4 0.000000e+0\n",
      " 7.651773e+2 5.000000e-1 8.927834e-3 2.300000e-2 0.000000e+0 0.000000e+0\n",
      " 7.908859e+2 5.000000e-1 6.743092e-3 2.300000e-2 0.000000e+0 0.000000e+0\n",
      " 8.216941e+2 5.000000e-1 6.759303e-2 2.208041e-2 0.000000e+0 2.350000e-7\n",
      " 8.511365e+2 5.000000e-1 6.647315e-2 2.353392e-2 2.597000e-6 0.000000e+0\n",
      " 8.562210e+2 5.000000e-1 9.095181e-2 2.327462e-2 0.000000e+0 1.405000e-6\n",
      " 8.665850e+2 5.000000e-1 5.972765e-3 2.300000e-2 0.000000e+0 0.000000e+0\n",
      " 9.051658e+2 5.000000e-1 5.576808e-2 2.373781e-2 0.000000e+0 0.000000e+0\n",
      " 9.251992e+2 5.000000e-1 1.577952e-2 2.300000e-2 0.000000e+0 0.000000e+0\n",
      " 9.371743e+2 5.000000e-1 1.559197e-1 2.368092e-2 0.000000e+0 0.000000e+0\n",
      " 9.586676e+2 5.000000e-1 2.129781e-1 2.318127e-2 0.000000e+0 0.000000e+0\n",
      " 9.917567e+2 5.000000e-1 3.947178e-1 2.422317e-2 0.000000e+0 0.000000e+0\n",
      " 1.006279e+3 5.000000e-1 4.066097e-5 2.300000e-2 0.000000e+0 0.000000e+0\n",
      " 1.023113e+3 5.000000e-1 9.173014e-3 2.300000e-2 0.000000e+0 0.000000e+0\n",
      " 1.054636e+3 5.000000e-1 9.560141e-2 2.300000e-2 0.000000e+0 0.000000e+0\n",
      " 1.057848e+3 5.000000e-1 7.852774e-5 2.300000e-2 0.000000e+0 0.000000e+0\n",
      "\n"
     ]
    }
   ],
   "source": [
    "with open('data/U238res.dat', 'r') as resfile:\n",
    "    print(resfile.read())"
   ]
  },
  {
   "cell_type": "markdown",
   "metadata": {},
   "source": [
    "You can notice that the file only contains the first 50 resonances with positive energies and for the angular momentum $\\ell=0$. All these resonances are in the resolved region. Our goal is to demonstrate the way how reconstruction can be performed, however it has to be highlighted that for physically correct cross sections, one should include all the other resonances. The values have already been converted to scientific notation, therefore we can easily read the data with eg. `np.loadtxt`.\n",
    "\n",
    "We can also remind ourselves that the ENDF section contains further information, which looked like the following in the interpreted format:\n",
    "\n",
    "```\n",
    "    Reich-Moore Parameters\n",
    "\n",
    "    Spin: 0.0\n",
    "    Scattering length AP: 0.94800\n",
    "    4*pi*AP**2: 11.2934 barns\n",
    "    Number of l states: 2\n",
    "\n",
    "    Resonance Parameters for l= 0\n",
    "    L-dependent scattering radius: 0.94800 \n",
    "```\n",
    "\n",
    "where the potential cross section $\\sigma_p=11.2934\\text{ barns}$ will be of interest for us. \n",
    "\n",
    "Also, we can recall that the columns are energy (eV), spin J, and widths GN (neutron width evaluated at the resonance energy), GG (radiation width), GFA (first partial fission width), GFB (second partial fission width). The total resonance width $\\Gamma_i$ of the $i$th resonance corresponds to its life time. And the partial resonance widths are related to the probability that the compound nucleus will decay through a certain reaction type, eg $\\Gamma_{\\gamma,i}/\\Gamma_i$ gives the probability of radiative capture. The neutron width corresponds to the scattering reaction, and is dependent on the energy (in the notebook discussing the unresolved region we will come back to this). \n",
    "\n",
    "Let's load the data."
   ]
  },
  {
   "cell_type": "code",
   "execution_count": 2,
   "metadata": {},
   "outputs": [],
   "source": [
    "import numpy as np\n",
    "import matplotlib.pyplot as plt\n",
    "\n",
    "E0s, Js, GNs, GGs, GFAs, GFBs = np.loadtxt('data/U238res.dat').transpose() #transpose so we can read the columns"
   ]
  },
  {
   "cell_type": "markdown",
   "metadata": {},
   "source": [
    "# The resonance model of radiative capture\n",
    "\n",
    "The reader is adviced to read [Nuclear Reactor Analysis from Duderstadt and Hamilton](https://deepblue.lib.umich.edu/bitstream/handle/2027.42/89079/1976_Nuclear_Reactor_Analysis.pdf) (page 26-32) along this section. The following provides only a short summary.\n",
    "\n",
    "During this datalab we are going to use the Single-level Breit-Wigner (SLBW) resonance formula to reconstruct the cross sections. This formula can be derived by applying the Schrödringer equation to a compound nucleus model with a single excitation level, however this is outside of the scope of this course. The SLBW formula should only be applied to isolated resonances, and is sometimes favoured because it can be implemented analytically in reactor physics calculations (similarly as we will do now). However, generally many levels of the compound nucleus interact, therefore for more accurate reconstructions Multi-level formulae should be used. \n",
    "\n",
    "One can notice also, that infact the interpretation of the ENDF tape mentioned \"Reich-Moore parameters\", thus you probably guessed that the parameters allow for applying something called the Reich-Moore (pronounced as \"Rich-Moore\") representation, which is a multi-level formulation. The interested reader is referred to Chapter 3.4 \"Resonance Representations\" in the [NJOY16 manual](https://raw.githubusercontent.com/njoy/NJOY2016-manual/master/njoy16.pdf).\n",
    "\n",
    "For our endeavour, the SLBW formalism is satisfactory, since the first 50 resonances of U-238 can still be assumed to be isolated, and because our main goal is to understand the principle of reconstructing resonance. Therefore we will have no use for the last two GFA and GFB columns.\n",
    "\n",
    "The SLBW formula for the radiative capture cross section is\n",
    "\n",
    "$$\\sigma_\\gamma(E)=\\sigma_0\\frac{\\Gamma_\\gamma}{\\Gamma}\\Big(\\frac{E_0}{E}\\Big)^{1/2}\\frac{1}{1+y^2}$$\n",
    "\n",
    "with\n",
    "\n",
    "$$y=\\frac{2}{\\Gamma}(E-E_0)$$\n",
    "\n",
    "where resonance occurs at energy $E_0$ and at the LAB  frame energy $E$ (see the [ENDF format manual](https://www.oecd-nea.org/dbdata/data/manual-endf/endf102.pdf): the resonance energy is given in the laboratory frame). $\\Gamma_\\gamma$ is the radiative line with (our values in the `GGs` array), and $\\Gamma$ is the total line width, the sum of the radiative and neutron line width (ie. `GN+GG`), which characterizes the full width at half-maximum of the resonance. $\\sigma_0$ is the total cross section at the resonance energy, and can be written as \n",
    "\n",
    "$$\\sigma_0=2.608\\cdot 10^6\\frac{(A+1)^2}{A^2E_0(eV)}\\frac{\\Gamma_n}{\\Gamma}g$$\n",
    "\n",
    "where $g=(2J+1)/2(2I+1)$ is the statistical spin factor with the [nuclear spin](http://hyperphysics.phy-astr.gsu.edu/hbase/Nuclear/nspin.html) $I$ (which is the total angular momentum of the nucleus, and for all even-even nuclei, such as U-238, it is $I=0$), and with total spin $J$ (our values in `Js`, which for the given resonances is $J=0.5$).\n",
    "\n",
    "So let's reconstruct the cross section based on the 50 resonances. We will iterate through each resonance, and evaluate the above formulae. The final cross section will be the sum of the $\\sigma_\\gamma$ cross sections evaluated for each $E_0$. Note, that here we will assume an arbitrary energy grid, whereas in practice the reconstruction is done in an iterative manner to obtain an energy grid minimizing the error for later interpolation from the point-wise cross sections. \n",
    "\n",
    "Complete the code block below!"
   ]
  },
  {
   "cell_type": "code",
   "execution_count": null,
   "metadata": {},
   "outputs": [],
   "source": [
    "I=0.0\n",
    "A=238\n",
    "#energy in eV\n",
    "E=np.logspace(-1, np.log10(E0s[-1]*1.05), 10000) #take the upper limit as 105% of \n",
    "                                                  #the highest resonance energy in the list\n",
    "    \n",
    "sigma_g = np.zeros_like(E)\n",
    "\n",
    "for E0,J,GN,GG in zip(E0s,Js,GNs,GGs):\n",
    "    G=GN+GG                  #total line width\n",
    "    g = (2*J+1)/(2*(2*I+1))  #statistical spin factor\n",
    "\n",
    "    sigma_0 = #complete sigma_0\n",
    "    y = #complete y\n",
    "    sigma_g += #add sigma_g for resonance E0\n",
    "\n",
    "plt.figure()\n",
    "plt.loglog(E, sigma_g)\n",
    "plt.xlabel('Energy (eV)')\n",
    "plt.ylabel('Capture cross section (b)')            \n",
    "plt.show()"
   ]
  },
  {
   "cell_type": "markdown",
   "metadata": {},
   "source": [
    "# The resonance model of elastic scattering\n",
    "\n",
    "Now, we continue following the description of the Duderstadt and Hamilton book, and look into the reconstruction of the elastic scattering cross section.\n",
    "\n",
    "The scattering cross section has three components\n",
    "1. Resonance scattering: when the neutron is first absorbed, a compound nucleus is formed, and then reemitted while the target nucleus returns to its ground date\n",
    "2. potential scattering: when the neutron is not penetrating the nuclear surface, just scatters of the nuclear potential; this process is characterized by an energy-independent cross section, comparable to the geometric cross section of the target nucleus.\n",
    "3. interference scattering: due to the interference of resonance and potential scattering.\n",
    "\n",
    "The formula for the scattering cross section is given as\n",
    "\n",
    "$$\\sigma_s(E)=\\sigma_0\\frac{\\Gamma_n}{\\Gamma}\\Big(\\frac{E_0}{E}\\Big)^{1/2}\\frac{1}{1+y^2}+\\sigma_0\\frac{2R}{\\lambdabar}\\frac{y}{1+y^2}+4\\pi R^2$$\n",
    "\n",
    "where the neutron wavelength is\n",
    "\n",
    "$$\\lambda=\\frac{h}{\\sqrt{2mE}}=\\frac{2.86\\cdot 10^{-9}}{\\sqrt{E}(eV)}cm$$\n",
    "\n",
    "and the reduced wavelength is\n",
    "\n",
    "$$\\lambdabar=\\frac{\\lambda}{2\\pi}$$\n",
    "\n",
    "and for R we can use the \"scattering length\" from the interpreted ENDF tape, which has $10^{-12}$ cm units (as can be seen from the units given for the potential scattering cross section (`4*pi*AP**2: 11.2934 barns`).\n",
    "\n",
    "We will follow the previous procedure to reconstruct the elastic scattering cross section. You do not need to add on the potential scattering term within the loop when iterating through each resonance (since then you would end up adding it 50 times)."
   ]
  },
  {
   "cell_type": "code",
   "execution_count": null,
   "metadata": {},
   "outputs": [],
   "source": [
    "R=9.48e-13 #cm\n",
    "sigma_p=11.2934 #barns\n",
    "\n",
    "#Complete the cell to reconstruct the scattering cross section."
   ]
  },
  {
   "cell_type": "markdown",
   "metadata": {},
   "source": [
    "Let us save the reconstructed cross sections into a file."
   ]
  },
  {
   "cell_type": "code",
   "execution_count": null,
   "metadata": {},
   "outputs": [],
   "source": [
    "np.savetxt('data/U238reconstruct.dat',np.column_stack((E,sigma_g,sigma_s)))"
   ]
  },
  {
   "cell_type": "markdown",
   "metadata": {},
   "source": [
    "# Acknowledgment\n",
    "\n",
    "The datalab was inspired by the scripts available at [Jeremy A. Roberts' github page](https://github.com/robertsj/applied_reactor_physics). "
   ]
  }
 ],
 "metadata": {
  "kernelspec": {
   "display_name": "Python 3",
   "language": "python",
   "name": "python3"
  },
  "language_info": {
   "codemirror_mode": {
    "name": "ipython",
    "version": 3
   },
   "file_extension": ".py",
   "mimetype": "text/x-python",
   "name": "python",
   "nbconvert_exporter": "python",
   "pygments_lexer": "ipython3",
   "version": "3.7.3"
  }
 },
 "nbformat": 4,
 "nbformat_minor": 4
}
