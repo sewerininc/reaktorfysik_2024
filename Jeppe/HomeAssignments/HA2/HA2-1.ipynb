{
 "cells": [
  {
   "cell_type": "markdown",
   "metadata": {},
   "source": [
    "# Home assigment 2\n",
    "\n",
    "Please give your name below:"
   ]
  },
  {
   "cell_type": "code",
   "execution_count": null,
   "metadata": {},
   "outputs": [],
   "source": [
    "name=''"
   ]
  },
  {
   "cell_type": "markdown",
   "metadata": {},
   "source": [
    "## Exercise 1\n",
    "\n",
    "Let's dig into someone else's code! Below we have used matplotlib to create a schematic figure of the neutron cycle, but we got confused along the way. Help us find out which factors of the 4 factor formula (f, p, $\\eta$, $\\epsilon$), should be included instead of the $X$ letters, and replace that part of the code. Also replace the $x$ letters with numbers to highlight how many neutrons are lost in various processes. \n",
    "\n",
    "Then estimate the values of the four factors, and calculate the infinite multiplication factor!"
   ]
  },
  {
   "cell_type": "code",
   "execution_count": null,
   "metadata": {},
   "outputs": [],
   "source": [
    "#Modify this code\n",
    "\n",
    "import matplotlib.pyplot as plt\n",
    "import matplotlib.patches as p\n",
    "fig, ax = plt.subplots(figsize=(15,10))\n",
    "\n",
    "fuel = plt.Circle((40, 0), 30,facecolor='white',edgecolor='black',hatch='/')\n",
    "ax.add_artist(fuel)\n",
    "thFiss1 = plt.Rectangle((20,20), 40, 20,facecolor='white',edgecolor='black')\n",
    "thFiss2 = p.Ellipse((40,30), 20, 10,facecolor='white',edgecolor='black')\n",
    "resEsc1 = plt.Rectangle((100,20), 40, 20,facecolor='white',edgecolor='black')\n",
    "resEsc2 = p.Ellipse((120,30), 20, 10,facecolor='white',edgecolor='black')\n",
    "thermalized1 = plt.Rectangle((100,-40), 40, 20,facecolor='white',edgecolor='black')\n",
    "thermalized2 = p.Ellipse((120,-30), 20, 10,facecolor='white',edgecolor='black')\n",
    "absorbed1 = plt.Rectangle((20,-40), 40, 20,facecolor='white',edgecolor='black')\n",
    "absorbed2 = p.Ellipse((40,-30), 20, 10,facecolor='white',edgecolor='black')\n",
    "ax.add_artist(thFiss1)\n",
    "ax.add_artist(thFiss2)\n",
    "ax.add_artist(absorbed1)\n",
    "ax.add_artist(absorbed2)\n",
    "ax.add_artist(resEsc1)\n",
    "ax.add_artist(resEsc2)\n",
    "ax.add_artist(thermalized1)\n",
    "ax.add_artist(thermalized2)\n",
    "plt.arrow(60, 30, 38.5, 0,linewidth=5,head_width=1, head_length=1,color='black')\n",
    "plt.arrow(120, 20, 0, -38.5,linewidth=5,head_width=1, head_length=1,color='black')\n",
    "plt.arrow(100, -30, -38.5, 0,linewidth=5,head_width=1, head_length=1,color='black')\n",
    "plt.arrow(40, -20, 0, 38.5,linewidth=5,head_width=1, head_length=1,color='black')\n",
    "c1=plt.Circle((80,30),5,facecolor='white',edgecolor='black')\n",
    "c2=plt.Circle((120,0),5,facecolor='white',edgecolor='black')\n",
    "c3=plt.Circle((80,-30),5,facecolor='white',edgecolor='black')\n",
    "c4=plt.Circle((40,0),5,facecolor='white',edgecolor='black')\n",
    "ax.add_artist(c1)\n",
    "ax.add_artist(c2)\n",
    "ax.add_artist(c3)\n",
    "ax.add_artist(c4)\n",
    "plt.text(39,0,r'$X$',fontsize=18)\n",
    "plt.text(79,29,r'$X$',fontsize=18)\n",
    "plt.text(69,36,'fast neutrons',fontsize=18)\n",
    "#################\n",
    "plt.arrow(50,20,10,-10,linewidth=3,head_width=1, head_length=1,color='black')\n",
    "plt.arrow(60,10,19,14,linewidth=3,head_width=1, head_length=1,color='black')\n",
    "plt.text(70,15,'fast fission: x',fontsize=13)\n",
    "plt.arrow(80,-25,0,15,linewidth=3,head_width=1, head_length=1,color='black')\n",
    "plt.text(81,-18,'parasitic capture: x',fontsize=13)\n",
    "plt.arrow(35,0,-10,0,linewidth=3,head_width=1, head_length=1,color='black')\n",
    "plt.text(25,1,'capture',fontsize=13)\n",
    "plt.text(22,17,'thermal fission',fontsize=13)\n",
    "##########\n",
    "plt.text(119,-1,r'$X$',fontsize=18)\n",
    "plt.text(126,-5,'resonance \\n energy \\n neutrons',fontsize=18)\n",
    "plt.arrow(115, 0, -55, 0,linewidth=3,head_width=1, head_length=1,color='black')\n",
    "plt.text(80,1,'resonance capture: x',fontsize=13)\n",
    "\n",
    "plt.text(79,-31,r'$X$',fontsize=18)\n",
    "plt.text(69,-38,'thermal neutrons',fontsize=18)\n",
    "\n",
    "plt.text(33,29,'N=1000',fontsize=18)\n",
    "plt.text(28,36,'Thermal fissions',fontsize=18)\n",
    "plt.text(28,22,'Born at 2 MeV',fontsize=18)\n",
    "\n",
    "plt.text(33+80,29,'N=1026',fontsize=18)\n",
    "plt.text(28+80,36,'Neutrons reach',fontsize=18)\n",
    "plt.text(26+80,22,'Resonance energy',fontsize=18)\n",
    "\n",
    "plt.text(34+80,29-60,'N=930',fontsize=18)\n",
    "plt.text(30+80,36-60,'Neutrons',fontsize=18)\n",
    "plt.text(28+80,22-60,'Thermalized',fontsize=18)\n",
    "\n",
    "plt.text(33,29-60,'N=858',fontsize=18)\n",
    "plt.text(26,36-60,'Neutrons absorbed',fontsize=18)\n",
    "plt.text(32,22-60,'in fuel',fontsize=18)\n",
    "\n",
    "plt.text(45,-10,'FUEL', fontsize=20)\n",
    "plt.text(45,-45,'MODERATOR', fontsize=20)\n",
    "#ax.add_artist(polygon)\n",
    "plt.xlim(0,150)\n",
    "plt.ylim(-50,50)\n",
    "ax.yaxis.set_visible(False)\n",
    "ax.xaxis.set_visible(False)\n",
    "plt.show()"
   ]
  },
  {
   "cell_type": "code",
   "execution_count": null,
   "metadata": {},
   "outputs": [],
   "source": [
    "# calculate the four factors and the infinite multiplication factor here."
   ]
  }
 ],
 "metadata": {
  "kernelspec": {
   "display_name": "Python 3",
   "language": "python",
   "name": "python3"
  },
  "language_info": {
   "codemirror_mode": {
    "name": "ipython",
    "version": 3
   },
   "file_extension": ".py",
   "mimetype": "text/x-python",
   "name": "python",
   "nbconvert_exporter": "python",
   "pygments_lexer": "ipython3",
   "version": "3.7.3"
  }
 },
 "nbformat": 4,
 "nbformat_minor": 4
}
