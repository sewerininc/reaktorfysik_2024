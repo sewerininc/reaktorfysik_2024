{
 "cells": [
  {
   "cell_type": "markdown",
   "metadata": {},
   "source": [
    "# Home assigment 3\n",
    "\n",
    "Please give your name below:"
   ]
  },
  {
   "cell_type": "code",
   "execution_count": null,
   "metadata": {},
   "outputs": [],
   "source": [
    "name=''"
   ]
  },
  {
   "cell_type": "markdown",
   "metadata": {},
   "source": [
    "## Exercise 2: Reactor feedbacks at prompt criticality\n",
    "\n",
    "In a nuclear reactor, control rod movements are often slow, and the reactor power can be considered to follow the reactivity increase/decrease during control rod movement. However, especially for accident scenarios, it is of interest to investigate the effect a very rapid addition of reactivity has on the core. \n",
    "\n",
    "In this workbook, we will simulate an instantaneous reactivity insertion into a PWR core operating at full power, to investigate the change in power. Since the transient is rather fast, we will assume that there is insufficient time for the extra heat produced in the fuel to be transported to the coolant, hence only the fuel temperature feedback will play a role. Additionally, the delayed neutrons are neglected. \n",
    "\n",
    "First, let us derive the equations governing the reactor dynamics in this simplified case. We will begin with the fuel temperature. If $c_p$ is the specific heat capacity of the fuel, $m$ is the mass of fuel, and $P_{cool}(t)$ is the heat transferred to the moderator/coolant, then:\n",
    "\n",
    "$$\\frac{dT_f}{dt} =\\frac{1}{c_pm}(P(t) - P_{cool}(t))$$\n",
    "\n",
    "Since we are assuming that the heat transfer to the coolant is constant in this scenario, we can approximate $P_{cool}(t) = P_{eq}$ where the equilibrium heat transfer $P_{eq}$ is the heat transfer in the steady-state critical condition. Next, the reactivity typically depends on the fuel temperature coefficient and the moderator temperature coefficient. If we assume that these coefficients do not change with time, it can be expressed as:\n",
    "\n",
    "$$\\rho(t) = \\rho_i(t) - \\alpha_f \\cdot \\Delta T_f - \\alpha_m \\cdot \\Delta T_m$$\n",
    "\n",
    "Here $\\rho_i(t)$ is reactivity changes due to for example control rod movements, and for this example it will be constant in time. Taking the derivative of this with respect to time, and noting that in a fast transient the extra energy released in the fuel does not have time to be transported into the moderator (only the equilibrium power transfer occurs) so that the moderator temperature remains constant, we get:\n",
    "\n",
    "$$\\frac{d\\rho}{dt} = -\\alpha_f \\frac{dT_f}{dt} = -\\frac{\\alpha_f}{c_pm}(P(t) - P_{eq})$$\n",
    "\n",
    "Finally, the reactor power changes according to $\\rho$, where $\\Lambda$ is the average neutron life time:\n",
    "\n",
    "$$\\frac{dP}{dt} = \\frac{\\rho(t)}{\\Lambda}P(t)$$\n",
    "\n",
    "Your task is to use these equations to simulate a reactor that starts with $\\rho = 0.001$ and $\\rho = 0.005$, where $\\rho$ here only considers the prompt neutrons, hence the reactor is prompt critical. Plot the criticality, reactor power and fuel temperature as a function of time, and simulate the reactor for ten seconds. The melting temperature of UO2 is around 2800 degrees, is there a risk of meltdown in this scenario?\n",
    "\n",
    "The following fuel parameter will be used. Assume that these values do not change with temperature \n",
    "- The fuel density is 10,5 g/cm$^3$, and the reactor contains 120 tonnes of fuel.\n",
    "- The average neutron life time is assumed to be 0.0001 seconds (for prompt neutrons, since delayed neutrons are neglected)\n",
    "- The fuel heat capacity is c$_p$ = 0,4 kJ/(kgּK).\n",
    "\n",
    "The following initial conditions are used:\n",
    "- The initial core power is 3000 MW.\n",
    "- The initial fuel average temperature is 1200 degrees K.\n",
    "- The initial criticality $\\rho$ is 0.001 and 0.005 for the two cases.\n",
    "\n",
    "Your first task is to use OpenMC to determine the fuel temperature feedback. Do this by simulating a pin-cell system, as you did in the previous labs. Simulate it for the normal operating temperature and another temperature a few hundred degrees hotter (since there is uncertainty in the k estimations, we want a large change to make sure that we see a change in k without having to run the calculations for a very long time...). Assume that the feedback is linear as a function of temperature, so that $\\alpha_f$ is the reactivity change divided by the temperature change. "
   ]
  },
  {
   "cell_type": "code",
   "execution_count": 1,
   "metadata": {},
   "outputs": [],
   "source": [
    "#calculate alpha_f here based on your OpenMC runs. Also note what parameters you used in the simulations, \n",
    "#such as for example pin radius and moderator to fuel ratio."
   ]
  },
  {
   "cell_type": "markdown",
   "metadata": {},
   "source": [
    "Now that we have all the parameters for the reactor that we need, it is time to start simulating it. Previously you have used the python function `solver_ivp`, but for this case, you will make your own solver. For simplicity, you will implement an Euler solver, where you calculate the values for one small time step at a time. The general form for the Euler solver is \n",
    "\n",
    "new value = old value + derivative * time step\n",
    "\n",
    "The Euler method is a simple method of numerically solving differential equaitons. It may however run into issues of numerical stability, which you will investigate later in this home assignment.\n",
    "\n",
    "For now, use a time step in the calculations that is the same as the neutron life time."
   ]
  },
  {
   "cell_type": "code",
   "execution_count": null,
   "metadata": {},
   "outputs": [],
   "source": [
    "def simulate_power_transient(reactivity_insertion, time_step):\n",
    "    #define the reactor constants here\n",
    "    #make sure all units match!\n",
    "    \n",
    "    total_time_steps = int(10/time_step) #simulate 10 seconds with the provided time step \n",
    "    \n",
    "    #initialize vectors for power, temperature, reactivity here.\n",
    "    #also make a vector for the time you are simulating, so that later we can plot power vs time.\n",
    "    \n",
    "    for step in range(0,total_time_steps):\n",
    "        #Calculate derivatives\n",
    "        \n",
    "        #Calculate new values using the old values, the derivatives and the time steps.\n",
    "        \n",
    "    #return the vectors containing reactivity, power, temperature, time"
   ]
  },
  {
   "cell_type": "markdown",
   "metadata": {},
   "source": [
    "Finally, use the simulator you have written to simulate and plot the reactivity, power and temperature as a function fo time, for reactivity insertions of $\\rho = 0.001$ and $\\rho = 0.005$"
   ]
  },
  {
   "cell_type": "code",
   "execution_count": null,
   "metadata": {},
   "outputs": [],
   "source": [
    "#call the function and plot the results here!"
   ]
  },
  {
   "cell_type": "markdown",
   "metadata": {},
   "source": [
    "Since you have written code to simulate the transients, let us also look at what happens if we choose a different time step, and how it affects the numerical stability of the results. Simualte the case $\\rho = 0.005$ for a few different time steps shorter than the neutron life time, and a few that are longer. "
   ]
  },
  {
   "cell_type": "code",
   "execution_count": null,
   "metadata": {},
   "outputs": [],
   "source": [
    "#Write the results of using a different time step length here!"
   ]
  },
  {
   "cell_type": "markdown",
   "metadata": {},
   "source": [
    "If the delayed neutrons had been included, the peaks would obtain a tail that stretches out for a second or two. Note also that for time scales of a few seconds, the heat transfer from the fuel to the coolant would start to affect the results, which would lower fuel temperatures but raise moderator temperature. Eventually, the reactor would stabilize around a power level higher than the original 3000 MW, with a new, higher equilibrium fuel and coolant temperature that compensates for the reactivity insertion."
   ]
  }
 ],
 "metadata": {
  "kernelspec": {
   "display_name": "Python 3",
   "language": "python",
   "name": "python3"
  },
  "language_info": {
   "codemirror_mode": {
    "name": "ipython",
    "version": 3
   },
   "file_extension": ".py",
   "mimetype": "text/x-python",
   "name": "python",
   "nbconvert_exporter": "python",
   "pygments_lexer": "ipython3",
   "version": "3.7.3"
  }
 },
 "nbformat": 4,
 "nbformat_minor": 4
}
