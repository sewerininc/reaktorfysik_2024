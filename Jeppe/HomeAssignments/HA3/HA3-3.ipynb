{
 "cells": [
  {
   "cell_type": "markdown",
   "metadata": {},
   "source": [
    "# Home assigment 3\n",
    "\n",
    "Please give your name below:"
   ]
  },
  {
   "cell_type": "code",
   "execution_count": null,
   "metadata": {},
   "outputs": [],
   "source": [
    "name=''"
   ]
  },
  {
   "cell_type": "markdown",
   "metadata": {},
   "source": [
    "## Exercise 3\n",
    "\n",
    "A hypothetical dictatorship is desperately trying to build a nuclear weapon. Several years ago they have managed to acquire the design of a graphite moderated, CO2 cooled, natural uranium fuelled reactor. Your country's intelligence agency asked you to estimate the amount of plutonium the reactor produced in the previous years. You will need to make a pincell model of the reactor, and perform a depletion calculation.\n",
    "\n",
    "The following information is available to you:\n",
    "\n",
    "The fuel pin is made of UAl (density is 18.167 g/cm3) with the following atomic percentage:\n",
    "- U235  0.00707444999\n",
    "- U238  0.98792555\n",
    "- Al27  0.005  \n",
    "\n",
    "The cladding is made of a mixture of Magnesium and Aluminium (density is 1.738 g/cm3), with the following weight fractions:\n",
    "- Mg 0.99\n",
    "- Al27 0.01\n",
    "(Note that you can add Mg as an element, and you can set weight fractions instead of atomic with `add_element('Mg',0.99,percent_type='wo')`) \n",
    "\n",
    "The fuel is cooled with CO2, however you know that due to its low density you can neglect it for now.\n",
    "\n",
    "The moderator is made of graphite (density is 1.7 g/cm3). For this you can `add_nuclide('C0',1)` and set the thermal scattering laws with `add_s_alpha_beta('c_Graphite')`.\n",
    "\n",
    "The geometry is the following:\n",
    "- fuel outer radius is 1.45 cm\n",
    "- clad outer radius is 1.5 cm (there is no gap between the clad and the fuel)\n",
    "- the coolant channel outer radius is 3.25 cm\n",
    "- outside the coolant we have the graphite moderator\n",
    "- the pitch of the pincell is 20.0 cm.\n",
    "\n",
    "The active core height is 52 cm, and there are 8120 such pincells in the reactor. (This information you do not need for the openMC input, however it is necessary later to calculate the amount of fuel.)\n",
    "\n",
    "You know from your intel, that the reactor was running for 1785 continous days (which you can simulate with eight 223.125 days long steps) with a power density of 0.336 W/gHM. \n",
    "\n",
    "1. Create the openMC model for the pincell (you do not need to include any tallies)\n",
    "2. Perform a depletion calculation\n",
    "3. Look at the change of the k-eigenvalue over time, just because you are a curious reactor physicist\n",
    "4. Estimate the total mass of Pu-239 at the end of the 1785 days operation (in kg)\n",
    "5. Calculate the Plutonium-vector (the weight% of Pu-238, Pu-239, Pu-240, Pu-241, Pu-242 in the total amount of plutonium), to see whether the material would qualify as weapon grade or reactor grade plutonium (for this read up on weapon and reactor grade plutonium!).\n",
    "\n",
    "(Note, in case you have difficulties with running the problem -which might happen with the virtual machine and limited computational resources-, then you can find the output files in the '/results' folder. Nevertheless, you still need to implement the geometry, run a simple k-eigenvalue calculation and create a plot of the geometry to show that your implementation is working. But then you can use the available output for processing)."
   ]
  },
  {
   "cell_type": "code",
   "execution_count": null,
   "metadata": {},
   "outputs": [],
   "source": [
    "# your code comes here"
   ]
  }
 ],
 "metadata": {
  "kernelspec": {
   "display_name": "Python 3",
   "language": "python",
   "name": "python3"
  },
  "language_info": {
   "codemirror_mode": {
    "name": "ipython",
    "version": 3
   },
   "file_extension": ".py",
   "mimetype": "text/x-python",
   "name": "python",
   "nbconvert_exporter": "python",
   "pygments_lexer": "ipython3",
   "version": "3.7.3"
  }
 },
 "nbformat": 4,
 "nbformat_minor": 4
}
