{
 "cells": [
  {
   "cell_type": "markdown",
   "metadata": {},
   "source": [
    "# Home assigment 3\n",
    "\n",
    "Please give your name below:"
   ]
  },
  {
   "cell_type": "code",
   "execution_count": null,
   "metadata": {},
   "outputs": [],
   "source": [
    "name=''"
   ]
  },
  {
   "cell_type": "markdown",
   "metadata": {},
   "source": [
    "## Exercise 1\n",
    "\n",
    "You will be designing a control rod and study the control rod worth in a simple cylindric reactor. Your task will be to implement the geometry of a homogeneous cylindric reactor with a \"control rod\" placed in it. You will be modifying your model in order to move the control rod to investigate how the k-effective and the reactivity changes. You will be given a homogenenous mixture of enriched uranium and water. You can modify the U-235 content if you feel needed. The goal is that the reactor is supercritical when the control rod is not inserted, and it is subcritical when the control rod is fully inserted.\n",
    "\n",
    "Your tasks are:\n",
    "\n",
    "1. Build a cylinder core with `openmc.ZCylinder` and `openmc.ZPlane` surfaces. Make the radius of the cylinder 25cm, and the height of the cylinder 50 cm. You can use the homogeneous uranium-water mixture given below as a starting point.\n",
    "2. Design a control rod as a homogeneous cell made of some neutron absorbing material (for example boron, boron-carbide). You are free to choose the material and the geometry. It can be a simple cylinder, or a rectangular prism, or a hexagonal prism, or it can be multiple cylinders as well. Unleash your creativity.\n",
    "3. Write a function which has an input for the rod position (the length inserted into the core), and which returns an openMC `Model()`) (see Datalab 10).\n",
    "4. Calculate the reactivity of the core when the rod is withdrawn. From this you figure out the reactivity reserve of the core (our margin to criticality).\n",
    "5. Move the rod in steps into the reactor, and calculate the control rod worth at that location (ie. how much the k-effective, and the reactivity decreased after inserting the rod to the given position). \n",
    "6. Find the critical control rod position (you can use the `openmc.search_for_keff` function, or manual trial and error).\n",
    "7. Plot the controd rod worth vs rod position.\n",
    "\n",
    "Hint1: there are multiple ways to get into this problem. You can implement a control rod with fixed length, which when withdrawn from the core is infact located above the core as in practice, then insertion of the control rod means that you move the top and bottom bounding surfaces of the rod. But you can also just assume that there is some volume inside the reactor, which has its top surface always at the top of the reactor, and insertion is achieved by increasing the length of this cell. Care must be taken however for both whether the boundary condition of the control rod surfaces set in openMC is vacuum or the default transmissive (where particles freely pass through the surface), since the parts of the rod inside the core need to have a transmissive boundary, whereas the parts outside of the core need a vacuum boundary. Alternatively, you can surround the core with some cell which accommodates your whole core and the control rod (filled either with reflector material or void -ie. you do not specify the material), and include vacuum boundaries on the surfaces of this cell, then you can keep default transmissive boundaries on the control rod and core surfaces.\n",
    "\n",
    "Hint2: Use enough particles per simulation so that the k-effective has a reasonably low uncertainty, but do not stress much on this (ie. don't do much longer than few minutes runs per rod position).\n",
    "\n",
    "Hint3: It might be inefficient to launch your particles inside the control rod, so make sure you launch them in fuel material. You can for example include more source points, or use volume sources (see the [user's guide](https://docs.openmc.org/en/stable/usersguide/settings.html))\n",
    "\n",
    "![options](ha3-1_controlrod.png)"
   ]
  },
  {
   "cell_type": "code",
   "execution_count": null,
   "metadata": {},
   "outputs": [],
   "source": [
    "import openmc\n",
    "import numpy as np\n",
    "import matplotlib.pyplot as plt\n",
    "\n",
    "fuelm = openmc.Material(1,\"uo2\")\n",
    "fuelm.set_density('g/cm3', 10.0)\n",
    "fuelm.add_nuclide('U235', 0.00229)\n",
    "fuelm.add_nuclide('U238', 0.13847)\n",
    "fuelm.add_nuclide('O16', 0.29)\n",
    "fuelm.add_nuclide('H1', 0.57)\n",
    "fuelm.add_s_alpha_beta('c_H_in_H2O')\n"
   ]
  }
 ],
 "metadata": {
  "kernelspec": {
   "display_name": "Python 3",
   "language": "python",
   "name": "python3"
  },
  "language_info": {
   "codemirror_mode": {
    "name": "ipython",
    "version": 3
   },
   "file_extension": ".py",
   "mimetype": "text/x-python",
   "name": "python",
   "nbconvert_exporter": "python",
   "pygments_lexer": "ipython3",
   "version": "3.7.3"
  }
 },
 "nbformat": 4,
 "nbformat_minor": 4
}
