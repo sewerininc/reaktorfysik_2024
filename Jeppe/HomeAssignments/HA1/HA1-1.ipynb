{
 "cells": [
  {
   "cell_type": "markdown",
   "metadata": {},
   "source": [
    "# Home assigment 1\n",
    "\n",
    "Please give your name below:"
   ]
  },
  {
   "cell_type": "code",
   "execution_count": null,
   "metadata": {},
   "outputs": [],
   "source": [
    "name=''"
   ]
  },
  {
   "cell_type": "markdown",
   "metadata": {},
   "source": [
    "## Exercise 1\n",
    "\n",
    "In nature Uranium is commonly available in the form of two isotopes: $^{235}U$ and $^{238}U$. Let us define Uranium enrichment as:\n",
    "\\begin{equation}\n",
    "\\epsilon= \\frac{N_{^{235}U}}{N_{^{235}U}+N_{^{238}U}}\n",
    "\\end{equation}\n",
    "\n",
    "where $N$ indicates the number of atoms in a given volume. The half-lives are $4.51 \\times 10^9$ and $7.13 \\times 10^8$ yr for $^{238}U$ and $^{235}U$, respectively. Today, the natural enrichment is $0.72 \\%$, whereas a typical LWR fuel has an enrichment of $2-5 w\\%$. It is notable that in the past natural uranium contained enough $^{235}U$ that LWRs could have been built without requiring further enrichment. In fact, evidance shows that cca $1.7 \\times 10^9$ yr ago at certain locations such as in Oklo, Gabon the conditions were ideal for the formation of [natural nuclear fission reactors](https://en.wikipedia.org/wiki/Natural_nuclear_fission_reactor). \n",
    "\n",
    "- Derive the equation that describes the evolution of the enrichment in time. (hint: use markdown and Latex to document your derivation)\n",
    "- Define a program function which evaluates the enrichment at a certain time in the past. The function should be able to handle array-like inputs (hint: you can use numpy). \n",
    "- Evaluate the function and print the enrichment \n",
    "    - at the birth of Earth ($4.5 \\times 10^9$ years ago)\n",
    "    - at the time when the Oklo reactor \"operated\" ($1.7 \\times 10^9$ years ago)\n",
    "- Plot the enrichment of uranium versus time in the past. Include a vertical line (`plt.axvline`) at the two times highlighted above\n"
   ]
  },
  {
   "cell_type": "markdown",
   "metadata": {},
   "source": [
    "### Solution\n",
    "\n",
    "Include your derivation here."
   ]
  },
  {
   "cell_type": "code",
   "execution_count": null,
   "metadata": {},
   "outputs": [],
   "source": [
    "# include your code here\n",
    "\n",
    "def epsilon(t):\n",
    "    \"\"\"Function to evaluate Uranium enrichment at time t. The parameter t can be both float or array.\"\"\"\n",
    "    return eps\n",
    "\n",
    "#do the printing and plotting here"
   ]
  },
  {
   "cell_type": "code",
   "execution_count": null,
   "metadata": {},
   "outputs": [],
   "source": []
  }
 ],
 "metadata": {
  "kernelspec": {
   "display_name": "Python 3",
   "language": "python",
   "name": "python3"
  },
  "language_info": {
   "codemirror_mode": {
    "name": "ipython",
    "version": 3
   },
   "file_extension": ".py",
   "mimetype": "text/x-python",
   "name": "python",
   "nbconvert_exporter": "python",
   "pygments_lexer": "ipython3",
   "version": "3.7.3"
  }
 },
 "nbformat": 4,
 "nbformat_minor": 4
}
